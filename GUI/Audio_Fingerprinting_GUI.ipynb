{
 "cells": [
  {
   "cell_type": "code",
   "execution_count": 1,
   "metadata": {},
   "outputs": [
    {
     "ename": "SystemExit",
     "evalue": "0",
     "output_type": "error",
     "traceback": [
      "An exception has occurred, use %tb to see the full traceback.\n",
      "\u001b[0;31mSystemExit\u001b[0m\u001b[0;31m:\u001b[0m 0\n"
     ]
    },
    {
     "name": "stderr",
     "output_type": "stream",
     "text": [
      "/home/cos/anaconda3/lib/python3.6/site-packages/IPython/core/interactiveshell.py:2870: UserWarning: To exit: use 'exit', 'quit', or Ctrl-D.\n",
      "  warn(\"To exit: use 'exit', 'quit', or Ctrl-D.\", stacklevel=1)\n"
     ]
    }
   ],
   "source": [
    "#!/usr/bin/python3\n",
    "# -*- coding: utf-8 -*-\n",
    "\n",
    "\"\"\"\n",
    "ZetCode PyQt5 tutorial \n",
    "\n",
    "This program centers a window \n",
    "on the screen. \n",
    "\n",
    "Author: Jan Bodnar\n",
    "Website: zetcode.com \n",
    "Last edited: August 2017\n",
    "\"\"\"\n",
    "\n",
    "import sys\n",
    "from PyQt5.QtWidgets import (QLabel, QWidget, QToolTip, \n",
    "    QPushButton, QVBoxLayout, QDesktopWidget, QApplication)\n",
    "from PyQt5.QtGui import QFont, QPixmap, QIcon\n",
    "from PyQt5.QtCore import Qt, QSize\n",
    "\n",
    "class Example(QWidget):\n",
    "    \n",
    "    def __init__(self):\n",
    "        super().__init__()\n",
    "        \n",
    "        self.initUI()\n",
    "        \n",
    "        \n",
    "    def initUI(self):               \n",
    "        \n",
    "        QToolTip.setFont(QFont('SansSerif', 10))\n",
    "        \n",
    "        self.setToolTip('This is a <b>QWidget</b> widget')\n",
    "        \n",
    "        #'''\n",
    "        btn = QPushButton('SEARCH', self)\n",
    "        btn.setToolTip('This is a <b>QPushButton</b> widget')\n",
    "        btn.resize(btn.sizeHint())\n",
    "        btn.move(220, 130)\n",
    "        #'''\n",
    "        \n",
    "        '''\n",
    "        icon  = QIcon('button.png')\n",
    "        btn = QPushButton()\n",
    "        btn.setIcon(icon)\n",
    "        btn.setIconSize(QSize(24,24))\n",
    "        btn.resize(btn.sizeHint())\n",
    "        '''        \n",
    "        vbox = QVBoxLayout(self)\n",
    "        label = QLabel(self)\n",
    "        \n",
    "        image = True\n",
    "        if image:\n",
    "            path = 'data/Mayday_history_of_Tomorrow.jpg'\n",
    "        else:\n",
    "            path = 'data/No-album-art-itunes.jpg'\n",
    "        \n",
    "        pixmap = QPixmap(path)\n",
    "        pixmap = pixmap.scaledToHeight(450)\n",
    "        label.setPixmap(pixmap)\n",
    "        #label.setAlignment(Qt.AlignBottom)\n",
    "        label.setAlignment(Qt.AlignCenter)\n",
    "        \n",
    "        name = '如果我們不曾相遇'\n",
    "        singer = '五月天'\n",
    "        album = '自傳'\n",
    "        inform = '歌手: ' + singer + '  收錄專輯: 《' + album + '》'\n",
    "        text1 = QLabel(name)\n",
    "        text2 = QLabel(inform)\n",
    "        text1.setFont(QFont('SansSerif', 25))\n",
    "        text2.setFont(QFont('SansSerif', 12))\n",
    "        text1.setAlignment(Qt.AlignCenter)\n",
    "        text2.setAlignment(Qt.AlignCenter)\n",
    "        \n",
    "        vbox.addWidget(text1)\n",
    "        vbox.addWidget(text2)\n",
    "        vbox.addWidget(label)\n",
    "        vbox.addWidget(btn)\n",
    "    \n",
    "        self.resize(500, 550)\n",
    "        self.setWindowTitle('Audio Fingerprinting')   \n",
    "        self.center()         \n",
    "\n",
    "        self.show()        \n",
    "        \n",
    "    def center(self):\n",
    "        \n",
    "        qr = self.frameGeometry()\n",
    "        cp = QDesktopWidget().availableGeometry().center()\n",
    "        qr.moveCenter(cp)\n",
    "        self.move(qr.topLeft())\n",
    "        \n",
    "if __name__ == '__main__':\n",
    "    \n",
    "    app = QApplication(sys.argv)\n",
    "    ex = Example()\n",
    "    sys.exit(app.exec_())"
   ]
  },
  {
   "cell_type": "code",
   "execution_count": null,
   "metadata": {
    "collapsed": true
   },
   "outputs": [],
   "source": []
  }
 ],
 "metadata": {
  "kernelspec": {
   "display_name": "Python 3",
   "language": "python",
   "name": "python3"
  },
  "language_info": {
   "codemirror_mode": {
    "name": "ipython",
    "version": 3
   },
   "file_extension": ".py",
   "mimetype": "text/x-python",
   "name": "python",
   "nbconvert_exporter": "python",
   "pygments_lexer": "ipython3",
   "version": "3.6.3"
  }
 },
 "nbformat": 4,
 "nbformat_minor": 2
}
